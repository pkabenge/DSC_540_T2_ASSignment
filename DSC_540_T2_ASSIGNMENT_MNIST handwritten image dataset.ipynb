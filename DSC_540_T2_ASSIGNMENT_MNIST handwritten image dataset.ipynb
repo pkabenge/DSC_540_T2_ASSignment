{
 "cells": [
  {
   "cell_type": "code",
   "execution_count": 1,
   "id": "da060357",
   "metadata": {},
   "outputs": [
    {
     "name": "stdout",
     "output_type": "stream",
     "text": [
      ".. _digits_dataset:\n",
      "\n",
      "Optical recognition of handwritten digits dataset\n",
      "--------------------------------------------------\n",
      "\n",
      "**Data Set Characteristics:**\n",
      "\n",
      "    :Number of Instances: 1797\n",
      "    :Number of Attributes: 64\n",
      "    :Attribute Information: 8x8 image of integer pixels in the range 0..16.\n",
      "    :Missing Attribute Values: None\n",
      "    :Creator: E. Alpaydin (alpaydin '@' boun.edu.tr)\n",
      "    :Date: July; 1998\n",
      "\n",
      "This is a copy of the test set of the UCI ML hand-written digits datasets\n",
      "https://archive.ics.uci.edu/ml/datasets/Optical+Recognition+of+Handwritten+Digits\n",
      "\n",
      "The data set contains images of hand-written digits: 10 classes where\n",
      "each class refers to a digit.\n",
      "\n",
      "Preprocessing programs made available by NIST were used to extract\n",
      "normalized bitmaps of handwritten digits from a preprinted form. From a\n",
      "total of 43 people, 30 contributed to the training set and different 13\n",
      "to the test set. 32x32 bitmaps are divided into nonoverlapping blocks of\n",
      "4x4 and the number of on pixels are counted in each block. This generates\n",
      "an input matrix of 8x8 where each element is an integer in the range\n",
      "0..16. This reduces dimensionality and gives invariance to small\n",
      "distortions.\n",
      "\n",
      "For info on NIST preprocessing routines, see M. D. Garris, J. L. Blue, G.\n",
      "T. Candela, D. L. Dimmick, J. Geist, P. J. Grother, S. A. Janet, and C.\n",
      "L. Wilson, NIST Form-Based Handprint Recognition System, NISTIR 5469,\n",
      "1994.\n",
      "\n",
      ".. topic:: References\n",
      "\n",
      "  - C. Kaynak (1995) Methods of Combining Multiple Classifiers and Their\n",
      "    Applications to Handwritten Digit Recognition, MSc Thesis, Institute of\n",
      "    Graduate Studies in Science and Engineering, Bogazici University.\n",
      "  - E. Alpaydin, C. Kaynak (1998) Cascading Classifiers, Kybernetika.\n",
      "  - Ken Tang and Ponnuthurai N. Suganthan and Xi Yao and A. Kai Qin.\n",
      "    Linear dimensionalityreduction using relevance weighted LDA. School of\n",
      "    Electrical and Electronic Engineering Nanyang Technological University.\n",
      "    2005.\n",
      "  - Claudio Gentile. A New Approximate Maximal Margin Classification\n",
      "    Algorithm. NIPS. 2000.\n",
      "\n"
     ]
    }
   ],
   "source": [
    "from sklearn import datasets, svm\n",
    "import matplotlib.pyplot as plt\n",
    "\n",
    "digits = datasets.load_digits()\n",
    "print(digits.DESCR)"
   ]
  },
  {
   "cell_type": "code",
   "execution_count": 12,
   "id": "07849be6",
   "metadata": {},
   "outputs": [],
   "source": [
    "x = digits.data\n",
    "y = digits.target"
   ]
  },
  {
   "cell_type": "code",
   "execution_count": 16,
   "id": "e9391440",
   "metadata": {},
   "outputs": [
    {
     "data": {
      "text/html": [
       "<div>\n",
       "<style scoped>\n",
       "    .dataframe tbody tr th:only-of-type {\n",
       "        vertical-align: middle;\n",
       "    }\n",
       "\n",
       "    .dataframe tbody tr th {\n",
       "        vertical-align: top;\n",
       "    }\n",
       "\n",
       "    .dataframe thead th {\n",
       "        text-align: right;\n",
       "    }\n",
       "</style>\n",
       "<table border=\"1\" class=\"dataframe\">\n",
       "  <thead>\n",
       "    <tr style=\"text-align: right;\">\n",
       "      <th></th>\n",
       "      <th>targets</th>\n",
       "    </tr>\n",
       "  </thead>\n",
       "  <tbody>\n",
       "    <tr>\n",
       "      <th>0</th>\n",
       "      <td>0</td>\n",
       "    </tr>\n",
       "    <tr>\n",
       "      <th>1</th>\n",
       "      <td>1</td>\n",
       "    </tr>\n",
       "    <tr>\n",
       "      <th>2</th>\n",
       "      <td>2</td>\n",
       "    </tr>\n",
       "    <tr>\n",
       "      <th>3</th>\n",
       "      <td>3</td>\n",
       "    </tr>\n",
       "    <tr>\n",
       "      <th>4</th>\n",
       "      <td>4</td>\n",
       "    </tr>\n",
       "    <tr>\n",
       "      <th>...</th>\n",
       "      <td>...</td>\n",
       "    </tr>\n",
       "    <tr>\n",
       "      <th>1792</th>\n",
       "      <td>9</td>\n",
       "    </tr>\n",
       "    <tr>\n",
       "      <th>1793</th>\n",
       "      <td>0</td>\n",
       "    </tr>\n",
       "    <tr>\n",
       "      <th>1794</th>\n",
       "      <td>8</td>\n",
       "    </tr>\n",
       "    <tr>\n",
       "      <th>1795</th>\n",
       "      <td>9</td>\n",
       "    </tr>\n",
       "    <tr>\n",
       "      <th>1796</th>\n",
       "      <td>8</td>\n",
       "    </tr>\n",
       "  </tbody>\n",
       "</table>\n",
       "<p>1797 rows × 1 columns</p>\n",
       "</div>"
      ],
      "text/plain": [
       "      targets\n",
       "0           0\n",
       "1           1\n",
       "2           2\n",
       "3           3\n",
       "4           4\n",
       "...       ...\n",
       "1792        9\n",
       "1793        0\n",
       "1794        8\n",
       "1795        9\n",
       "1796        8\n",
       "\n",
       "[1797 rows x 1 columns]"
      ]
     },
     "execution_count": 16,
     "metadata": {},
     "output_type": "execute_result"
    }
   ],
   "source": [
    "import pandas as pd\n",
    "df = pd.DataFrame(data = y, columns = ['targets'])\n",
    "df"
   ]
  },
  {
   "cell_type": "code",
   "execution_count": 19,
   "id": "9c2a1ccb",
   "metadata": {},
   "outputs": [
    {
     "data": {
      "text/plain": [
       "(1797, 64)"
      ]
     },
     "execution_count": 19,
     "metadata": {},
     "output_type": "execute_result"
    }
   ],
   "source": [
    "x.shape"
   ]
  },
  {
   "cell_type": "code",
   "execution_count": 20,
   "id": "650ad902",
   "metadata": {},
   "outputs": [
    {
     "data": {
      "text/plain": [
       "(1797,)"
      ]
     },
     "execution_count": 20,
     "metadata": {},
     "output_type": "execute_result"
    }
   ],
   "source": [
    "y.shape"
   ]
  },
  {
   "cell_type": "code",
   "execution_count": 21,
   "id": "c16ef138",
   "metadata": {},
   "outputs": [
    {
     "data": {
      "text/plain": [
       "(1797, 8, 8)"
      ]
     },
     "execution_count": 21,
     "metadata": {},
     "output_type": "execute_result"
    }
   ],
   "source": [
    "# DATA VISUALIZATION\n",
    "digits.images.shape"
   ]
  },
  {
   "cell_type": "code",
   "execution_count": 22,
   "id": "2341dc24",
   "metadata": {},
   "outputs": [
    {
     "data": {
      "text/plain": [
       "array([[ 0.,  0.,  5., 13.,  9.,  1.,  0.,  0.],\n",
       "       [ 0.,  0., 13., 15., 10., 15.,  5.,  0.],\n",
       "       [ 0.,  3., 15.,  2.,  0., 11.,  8.,  0.],\n",
       "       [ 0.,  4., 12.,  0.,  0.,  8.,  8.,  0.],\n",
       "       [ 0.,  5.,  8.,  0.,  0.,  9.,  8.,  0.],\n",
       "       [ 0.,  4., 11.,  0.,  1., 12.,  7.,  0.],\n",
       "       [ 0.,  2., 14.,  5., 10., 12.,  0.,  0.],\n",
       "       [ 0.,  0.,  6., 13., 10.,  0.,  0.,  0.]])"
      ]
     },
     "execution_count": 22,
     "metadata": {},
     "output_type": "execute_result"
    }
   ],
   "source": [
    "digits.images[0]"
   ]
  },
  {
   "cell_type": "code",
   "execution_count": 57,
   "id": "b8ec144b",
   "metadata": {},
   "outputs": [
    {
     "data": {
      "image/png": "[encoded data removed]",
      "text/plain": [
       "<Figure size 432x288 with 1 Axes>"
      ]
     },
     "metadata": {
      "needs_background": "light"
     },
     "output_type": "display_data"
    }
   ],
   "source": [
    "import matplotlib.pyplot as plt\n",
    "plt.imshow(digits.images[4], cmap = plt.cm.gray_r)\n",
    "plt.axis('off')\n",
    "plt.title('Number: ' + str(y[4]))\n",
    "None"
   ]
  },
  {
   "cell_type": "code",
   "execution_count": null,
   "id": "2a7b04c9",
   "metadata": {},
   "outputs": [],
   "source": [
    "# set up the plot\n",
    "figure, axes = plt.subplots(3,10, figsize = (15,6))\n",
    "\n",
    "for ax, image,number in zip(axes,ravel(), digits.images, y):  # iteration of over 30 axes objects, the first 30 images in digits.images\n",
    "    ax.axis('off')\n",
    "    ax.imshow(image, cmap = plt.cm.gray_r)\n",
    "    ax.set_title('Number: ' + str(number))"
   ]
  },
  {
   "cell_type": "code",
   "execution_count": 87,
   "id": "5932aadc",
   "metadata": {},
   "outputs": [],
   "source": [
    "# dividing into training and testing datasets\n",
    "from sklearn.model_selection import train_test_split\n",
    "\n",
    "x_train, x_test, y_train, y_test = train_test_split(x, y, test_size= 1/3 ,random_state=99, stratify = y)\n"
   ]
  },
  {
   "cell_type": "code",
   "execution_count": 88,
   "id": "52471dad",
   "metadata": {},
   "outputs": [
    {
     "data": {
      "text/plain": [
       "(599,)"
      ]
     },
     "execution_count": 88,
     "metadata": {},
     "output_type": "execute_result"
    }
   ],
   "source": [
    "x_train.shape\n",
    "x_test.shape\n",
    "y_train.shape\n",
    "y_test.shape"
   ]
  },
  {
   "cell_type": "code",
   "execution_count": 72,
   "id": "46da4960",
   "metadata": {},
   "outputs": [
    {
     "data": {
      "text/plain": [
       "KNeighborsClassifier(n_neighbors=3)"
      ]
     },
     "execution_count": 72,
     "metadata": {},
     "output_type": "execute_result"
    }
   ],
   "source": [
    "# Fit the model\n",
    "from sklearn.neighbors import KNeighborsClassifier\n",
    "knn = KNeighborsClassifier(n_neighbors=3)\n",
    "knn.fit(x_train, y_train)"
   ]
  },
  {
   "cell_type": "code",
   "execution_count": 73,
   "id": "54e396da",
   "metadata": {},
   "outputs": [
    {
     "data": {
      "text/plain": [
       "array([2, 3, 2, 0, 3, 0, 6, 4, 5, 7, 2, 0, 6, 0, 1, 5, 6, 8, 1, 6, 3, 6,\n",
       "       8, 3, 5, 1, 3, 9, 1, 2, 4, 2, 6, 0, 5, 0, 3, 1, 3, 7, 9, 3, 8, 2,\n",
       "       4, 4, 8, 7, 8, 1, 7, 3, 8, 0, 5, 5, 6, 6, 0, 4, 1, 6, 4, 6, 3, 8,\n",
       "       6, 1, 6, 0, 6, 3, 5, 7, 0, 6, 1, 9, 3, 6, 2, 9, 3, 4, 1, 5, 5, 2,\n",
       "       1, 5, 5, 0, 7, 0, 7, 7, 6, 9, 8, 4, 6, 9, 1, 4, 0, 5, 6, 8, 2, 5,\n",
       "       2, 2, 7, 0, 5, 1, 2, 9, 9, 2, 3, 9, 5, 2, 9, 0, 0, 0, 9, 5, 5, 2,\n",
       "       8, 9, 4, 4, 4, 8, 7, 5, 9, 0, 4, 4, 2, 1, 4, 0, 7, 3, 1, 5, 7, 7,\n",
       "       8, 1, 5, 8, 3, 6, 6, 1, 7, 0, 6, 9, 3, 1, 9, 3, 8, 2, 8, 4, 9, 2,\n",
       "       0, 5, 0, 6, 1, 1, 2, 6, 7, 9, 7, 5, 7, 5, 6, 0, 5, 7, 1, 4, 4, 5,\n",
       "       0, 9, 1, 9, 3, 3, 6, 4, 7, 9, 9, 4, 4, 9, 5, 1, 3, 3, 1, 2, 2, 9,\n",
       "       1, 9, 6, 4, 3, 7, 7, 0, 9, 2, 8, 4, 9, 0, 2, 9, 2, 3, 7, 1, 7, 8,\n",
       "       5, 7, 0, 8, 4, 7, 7, 7, 0, 3, 1, 7, 0, 7, 7, 2, 8, 5, 1, 5, 5, 9,\n",
       "       3, 0, 0, 3, 9, 4, 9, 0, 6, 1, 3, 3, 7, 8, 1, 4, 0, 7, 1, 7, 2, 6,\n",
       "       5, 5, 0, 0, 7, 8, 6, 0, 6, 4, 0, 5, 4, 7, 5, 8, 4, 6, 5, 0, 3, 0,\n",
       "       9, 9, 4, 8, 4, 0, 3, 6, 1, 6, 5, 4, 8, 2, 7, 2, 4, 8, 3, 3, 8, 1,\n",
       "       2, 0, 5, 9, 8, 5, 9, 8, 3, 5, 4, 3, 1, 7, 4, 1, 1, 3, 0, 6, 9, 6,\n",
       "       6, 3, 6, 9, 4, 6, 8, 4, 1, 8, 7, 7, 4, 3, 9, 6, 8, 6, 0, 5, 3, 1,\n",
       "       2, 8, 2, 2, 6, 5, 0, 5, 0, 4, 9, 2, 6, 9, 9, 9, 5, 9, 4, 7, 3, 6,\n",
       "       2, 9, 8, 2, 2, 5, 7, 6, 9, 1, 2, 4, 5, 8, 0, 0, 8, 1, 5, 1, 2, 3,\n",
       "       9, 7, 2, 3, 7, 1, 0, 6, 2, 2, 7, 7, 9, 2, 0, 9, 7, 5, 2, 2, 1, 4,\n",
       "       6, 6, 8, 2, 1, 4, 8, 2, 4, 8, 3, 5, 5, 1, 8, 6, 3, 4, 4, 3, 6, 5,\n",
       "       9, 3, 1, 4, 8, 4, 9, 2, 5, 6, 9, 2, 4, 5, 8, 2, 6, 8, 7, 9, 8, 5,\n",
       "       1, 7, 9, 6, 3, 6, 9, 3, 7, 9, 4, 8, 4, 5, 6, 7, 4, 3, 6, 1, 3, 7,\n",
       "       0, 1, 5, 6, 7, 6, 5, 1, 1, 1, 8, 4, 2, 2, 3, 8, 8, 7, 9, 8, 3, 9,\n",
       "       9, 4, 7, 0, 1, 4, 1, 8, 6, 5, 2, 2, 4, 0, 1, 6, 0, 6, 5, 8, 4, 1,\n",
       "       7, 5, 5, 0, 5, 3, 9, 1, 7, 1, 3, 7, 9, 7, 7, 1, 8, 8, 0, 7, 7, 8,\n",
       "       9, 5, 0, 3, 8, 1, 0, 3, 4, 3, 8, 1, 3, 7, 1, 2, 2, 2, 2, 0, 0, 3,\n",
       "       2, 4, 3, 4, 1])"
      ]
     },
     "execution_count": 73,
     "metadata": {},
     "output_type": "execute_result"
    }
   ],
   "source": [
    "# Make prediction\n",
    "y_pred = knn.predict(x_test)\n",
    "y_pred"
   ]
  },
  {
   "cell_type": "code",
   "execution_count": 74,
   "id": "92e28174",
   "metadata": {},
   "outputs": [
    {
     "name": "stdout",
     "output_type": "stream",
     "text": [
      "              precision    recall  f1-score   support\n",
      "\n",
      "           0       1.00      1.00      1.00        59\n",
      "           1       0.95      0.98      0.97        61\n",
      "           2       1.00      0.98      0.99        59\n",
      "           3       1.00      0.98      0.99        61\n",
      "           4       1.00      1.00      1.00        60\n",
      "           5       0.97      0.98      0.98        61\n",
      "           6       1.00      1.00      1.00        60\n",
      "           7       0.97      1.00      0.98        60\n",
      "           8       1.00      0.95      0.97        58\n",
      "           9       0.98      0.98      0.98        60\n",
      "\n",
      "    accuracy                           0.99       599\n",
      "   macro avg       0.99      0.99      0.99       599\n",
      "weighted avg       0.99      0.99      0.99       599\n",
      "\n"
     ]
    }
   ],
   "source": [
    "from sklearn.metrics import classification_report\n",
    "report = classification_report(y_test, y_pred)\n",
    "print(report)"
   ]
  },
  {
   "cell_type": "code",
   "execution_count": 75,
   "id": "68f12b5f",
   "metadata": {},
   "outputs": [
    {
     "data": {
      "text/plain": [
       "array([[59,  0,  0,  0,  0,  0,  0,  0,  0,  0],\n",
       "       [ 0, 60,  0,  0,  0,  1,  0,  0,  0,  0],\n",
       "       [ 0,  0, 58,  0,  0,  0,  0,  1,  0,  0],\n",
       "       [ 0,  0,  0, 60,  0,  0,  0,  1,  0,  0],\n",
       "       [ 0,  0,  0,  0, 60,  0,  0,  0,  0,  0],\n",
       "       [ 0,  0,  0,  0,  0, 60,  0,  0,  0,  1],\n",
       "       [ 0,  0,  0,  0,  0,  0, 60,  0,  0,  0],\n",
       "       [ 0,  0,  0,  0,  0,  0,  0, 60,  0,  0],\n",
       "       [ 0,  3,  0,  0,  0,  0,  0,  0, 55,  0],\n",
       "       [ 0,  0,  0,  0,  0,  1,  0,  0,  0, 59]], dtype=int64)"
      ]
     },
     "execution_count": 75,
     "metadata": {},
     "output_type": "execute_result"
    }
   ],
   "source": [
    "# Evaluate the results by looking at the confusion matrix\n",
    "from sklearn.metrics import confusion_matrix\n",
    "confusion = confusion_matrix(y_true = y_test, y_pred = y_pred)\n",
    "confusion"
   ]
  },
  {
   "cell_type": "code",
   "execution_count": 80,
   "id": "8cfde433",
   "metadata": {},
   "outputs": [
    {
     "data": {
      "image/png": "[encoded data removed]",
      "text/plain": [
       "<Figure size 432x288 with 2 Axes>"
      ]
     },
     "metadata": {
      "needs_background": "light"
     },
     "output_type": "display_data"
    }
   ],
   "source": [
    "import seaborn as sns\n",
    "s = sns.heatmap(confusion, annot = True, cmap = 'nipy_spectral_r')\n",
    "s.set_title('Confusion matrix for MNIST dataset')\n",
    "None"
   ]
  },
  {
   "cell_type": "code",
   "execution_count": 84,
   "id": "0d2e8b98",
   "metadata": {},
   "outputs": [
    {
     "name": "stdout",
     "output_type": "stream",
     "text": [
      "accuracy from metrics.accuracy_score = 0.9866\n"
     ]
    }
   ],
   "source": [
    "# Getting specific performance\n",
    "# calculate the overall accuracy using knn.score\n",
    "acc = knn.score(x_test, y_test)\n",
    "print(f'accuracy from metrics.accuracy_score = {acc:.4}')# {acc:.4} will have 4 digits after decimal."
   ]
  },
  {
   "cell_type": "code",
   "execution_count": 85,
   "id": "b4ae7967",
   "metadata": {},
   "outputs": [
    {
     "name": "stdout",
     "output_type": "stream",
     "text": [
      "accuracy from metrics.accuracy_score = 0.9866\n"
     ]
    }
   ],
   "source": [
    "# calculate the overall accuracy using metrics.accuracy_score\n",
    "from sklearn import metrics\n",
    "acc = metrics.accuracy_score(y_test, y_pred)\n",
    "print(f'accuracy from metrics.accuracy_score = {acc:.4}')"
   ]
  },
  {
   "cell_type": "code",
   "execution_count": null,
   "id": "0d942381",
   "metadata": {},
   "outputs": [],
   "source": [
    "# Conclusion\n",
    "# accuracy from metrics.accuracy_score = 0.9866\n",
    "# the overall accuracy using metrics.accuracy_score = 0.9866\n",
    "# KNeighborsClassifier is best for the Optical recognition of handwritten digits dataset\n",
    "--------------------------------------"
   ]
  }
 ],
 "metadata": {
  "kernelspec": {
   "display_name": "Python 3",
   "language": "python",
   "name": "python3"
  },
  "language_info": {
   "codemirror_mode": {
    "name": "ipython",
    "version": 3
   },
   "file_extension": ".py",
   "mimetype": "text/x-python",
   "name": "python",
   "nbconvert_exporter": "python",
   "pygments_lexer": "ipython3",
   "version": "3.8.8"
  }
 },
 "nbformat": 4,
 "nbformat_minor": 5
}
